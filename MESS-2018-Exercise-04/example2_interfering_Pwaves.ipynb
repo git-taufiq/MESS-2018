{
 "cells": [
  {
   "cell_type": "markdown",
   "metadata": {},
   "source": [
    "<div style='background-image: url(\"baku.jpg\") ; padding: 0px ; background-size: cover ; border-radius: 15px ; height: 250px; background-position: 0% 80%'>\n",
    "    <div style=\"float: right ; margin: 50px ; padding: 20px ; background: rgba(255 , 255 , 255 , 0.9) ; width: 50% ; height: 150px\">\n",
    "        <div style=\"position: relative ; top: 50% ; transform: translatey(-50%)\">\n",
    "            <div style=\"font-size: xx-large ; font-weight: 900 ; color: rgba(0 , 0 , 0 , 0.9) ; line-height: 100%\">8th Munich Earth Skience School</div>\n",
    "            <div style=\"font-size: large ; padding-top: 20px ; color: rgba(0 , 0 , 0 , 0.7)\">Sudelfeld, 4-9 March 2018</div>\n",
    "        </div>\n",
    "    </div>\n"
   ]
  },
  {
   "cell_type": "markdown",
   "metadata": {},
   "source": [
    "<p style=\"width:50%;float:right;padding-left:50px\">\n",
    "<img src=./mess.jpg>\n",
    "<span style=\"font-size:smaller\">\n",
    "</span>\n",
    "</p>\n",
    "\n",
    "# 6-C polarization analysis using point measurements of translational and rotational ground-motion\n",
    "## Exercise 2 interfering P-waves\n",
    "\n",
    "### Authors:\n",
    "* David Sollberger (ETH Zurich)\n",
    "* Cedric Schmelzbach (ETH Zurich)\n",
    "* Cederic van Renterghem (ETH Zurich)\n",
    "* Taufiqurrahman (LMU Munich)\n",
    "\n",
    "***"
   ]
  },
  {
   "cell_type": "markdown",
   "metadata": {},
   "source": [
    "In this notebook, the 6-C algorithm allows the retrieval of the directions of multiple, interfering events. The result is given for two interfering P-waves with parameters $m_1^P = (θ_P = 20 ◦ , φ = 20 ◦ , α = 300 \\ m/s, β = 173 \\ m/s)^T$ , and $m_2^P = (θ_P = 14 ◦ , φ = 0 ◦ ,α = 300 \\ m/s , β = 173 \\ m/s )^T$. The directions of both events are accurately obtained, as are the local P- and S-wave velocities (see Sollberger et.al.(2018) for details)."
   ]
  },
  {
   "cell_type": "code",
   "execution_count": null,
   "metadata": {},
   "outputs": [],
   "source": [
    "# import libraries \n",
    "# ----------------\n",
    "%matplotlib notebook\n",
    "import warnings\n",
    "warnings.filterwarnings(\"ignore\")\n",
    "import numpy as np\n",
    "import matplotlib.pyplot as plt\n",
    "\n",
    "from ricker     import *\n",
    "from awgn       import *\n",
    "from polvect6C  import *\n",
    "from music6C    import *\n",
    "\n",
    "class structtype():\n",
    "    pass"
   ]
  },
  {
   "cell_type": "code",
   "execution_count": null,
   "metadata": {},
   "outputs": [],
   "source": [
    "# MUSIC parameters \n",
    "# ----------------\n",
    "test_param       = structtype()\n",
    "test_param.vp    = np.arange(200,500+50,50) # parameter space for vp\n",
    "test_param.vs    = np.arange(100,200+5,5)   # parameter space for vs\n",
    "test_param.theta = np.arange(1,40+1,1)      # parameter space for theta\n",
    "test_param.phi   = np.arange(-40,50+1,1)    # parameter space for phi\n",
    "wl = 0.6                                    # window length in seconds\n",
    "\n",
    "# wave parameters\n",
    "# wave 1\n",
    "theta  = 20.                      # incidence angle [degree]\n",
    "phi    = 20.                      # azimuth [degree]\n",
    "vp     = 300.                     # P-wave velocity at the receiver [m/s]\n",
    "vs     = 170.                     # S-wave velocity at the receiver [m/s]\n",
    "v_scal = 1.2 * vs                 # scaling velocity (slightly overestimated S-wave velocity)\n",
    "\n",
    "# wave 2\n",
    "theta2 = 14.   \n",
    "phi2   = 0.      \n",
    "\n",
    "# seismogram parameters\n",
    "tmin = 0.                         # minimum time of the seismogram [s]\n",
    "tmax = 1.5                        # maximum time of the seismogram [s]\n",
    "dt   = 0.25e-3                    # sampling interval [s]\n",
    "t    = np.arange(tmin,tmax+dt,dt) # time [s]\n",
    "t    = np.round(t,6)\n",
    "t_1  = 0.75                       # arrival time of the wave 1 [s]\n",
    "t_2  = 0.83                       # arrival time of the wave 2 [s]\n",
    "fc   = 5.                         # dominant frequency [Hz]\n",
    "wav  = ricker(dt,fc,tmax)         # Ricker wavelet\n",
    "\n",
    "# generate synthetics\n",
    "param        = structtype()\n",
    "param.theta  = theta\n",
    "param.phi    = phi\n",
    "param.vp     = vp\n",
    "param.vs     = vs\n",
    "\n",
    "param2       = structtype()\n",
    "param2.theta = theta2\n",
    "param2.phi   = phi2\n",
    "param2.vp    = vp\n",
    "param2.vs    = vs"
   ]
  },
  {
   "cell_type": "code",
   "execution_count": null,
   "metadata": {},
   "outputs": [],
   "source": [
    "# 6-C polarization vector \n",
    "# -----------------------\n",
    "v  = polvect6C(param, v_scal,'P') # calculate the polarization vector for the given wave\n",
    "v2 = polvect6C(param2,v_scal,'P') # calculate the polarization vector for the given wave\n",
    "v  = v  / np.sqrt(sum(v **2))     # convert to unit vector\n",
    "v2 = v2 / np.sqrt(sum(v2**2))     # convert to unit vector\n",
    "\n",
    "data  = (np.zeros((len(t),6)))    # zero data initialization\n",
    "indx  = t.tolist().index(t_1)     # index of arrival time of the wave \n",
    "indx2 = t.tolist().index(t_2)     # index of arrival time of the wave \n",
    "data[indx ,:] = v\n",
    "data[indx2,:] = v2\n",
    "\n",
    "for i in range(0, data[0,:].size - 1):\n",
    "    data[:,i] = np.convolve(data[:,i], wav, 'same')\n",
    "    \n",
    "# add random noise \n",
    "SNR  = 50.                        # signal to noise ratio\n",
    "data = awgn(data,SNR)"
   ]
  },
  {
   "cell_type": "code",
   "execution_count": null,
   "metadata": {},
   "outputs": [],
   "source": [
    "# 6-C MUSIC \n",
    "# ---------\n",
    "W = (wl / dt) # window length in samples\n",
    "L = music6C(data,test_param,'P',v_scal,indx,W,'auto',1e-9,0.01)"
   ]
  },
  {
   "cell_type": "code",
   "execution_count": null,
   "metadata": {},
   "outputs": [],
   "source": [
    "# remove instabilities \n",
    "# --------------------\n",
    "L_ = np.nan_to_num(L)\n",
    "L_[L_ == 0.] = 1.\n",
    "\n",
    "# determine maximum value and index of the MUSIC estimator \n",
    "maxval  =    np.max(abs(L_[:]))\n",
    "maxidx  = np.argmax(abs(L_[:]))\n",
    "i,j,k,l = np.unravel_index(maxidx, L_[:].shape) # column- to row-major indexing\n",
    "\n",
    "phitheta  = np.squeeze((abs(L_[:,:,k,l]))) # plane through best-fitting velocity parameters\n",
    "vpvs      = np.squeeze((abs(L_[i,j,:,:]))) # plane through best-fitting arrival angles"
   ]
  },
  {
   "cell_type": "code",
   "execution_count": null,
   "metadata": {},
   "outputs": [],
   "source": [
    "# plot configuration \n",
    "# ------------------\n",
    "plt.figure(figsize=(8, 4))\n",
    "\n",
    "plt.subplot(1,2,1)\n",
    "vm1 = np.percentile((abs(phitheta)), 100)\n",
    "plt.imshow((abs(phitheta)), cmap=\"jet\", vmin=np.min((abs(phitheta))), vmax=vm1, aspect='auto', extent=[test_param.phi[0],\n",
    "                                                                                                       test_param.phi[-1], \n",
    "                                                                                                       test_param.theta[-1], \n",
    "                                                                                                       test_param.theta[0]])\n",
    "plt.xlabel(r'$\\phi$ (°)')\n",
    "plt.ylabel(r'$\\theta$ (°)')\n",
    "plt.plot(phi,theta,'r.')\n",
    "plt.plot(phi2,theta2,'r.')\n",
    "\n",
    "plt.subplot(1,2,2)\n",
    "vm2 = np.percentile((abs(vpvs)), 100)\n",
    "plt.imshow(abs(vpvs), cmap=\"jet\", vmin=np.min((abs(vpvs))), vmax=vm2, aspect='auto', extent=[test_param.vs[0],\n",
    "                                                                                             test_param.vs[-1], \n",
    "                                                                                             test_param.vp[-1], \n",
    "                                                                                             test_param.vp[0]])\n",
    "plt.xlabel(r'$v_S$ (m/s)')\n",
    "plt.ylabel(r'$v_P$ (m/s)')\n",
    "plt.plot(vs,vp,'ro')\n",
    "\n",
    "# show result on screen\n",
    "plt.tight_layout()\n",
    "plt.show()"
   ]
  }
 ],
 "metadata": {
  "kernelspec": {
   "display_name": "Python 3",
   "language": "python",
   "name": "python3"
  },
  "language_info": {
   "codemirror_mode": {
    "name": "ipython",
    "version": 3
   },
   "file_extension": ".py",
   "mimetype": "text/x-python",
   "name": "python",
   "nbconvert_exporter": "python",
   "pygments_lexer": "ipython3",
   "version": "3.6.4"
  }
 },
 "nbformat": 4,
 "nbformat_minor": 2
}
